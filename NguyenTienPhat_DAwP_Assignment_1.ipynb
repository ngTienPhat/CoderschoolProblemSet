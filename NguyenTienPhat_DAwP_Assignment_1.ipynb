{
  "nbformat": 4,
  "nbformat_minor": 0,
  "metadata": {
    "colab": {
      "name": "NTP_DAwP_Assignment_1.ipynb",
      "version": "0.3.2",
      "provenance": []
    },
    "kernelspec": {
      "name": "python3",
      "display_name": "Python 3"
    }
  },
  "cells": [
    {
      "cell_type": "markdown",
      "metadata": {
        "id": "jjZG7BNlbWtO",
        "colab_type": "text"
      },
      "source": [
        "![](https://i.imgur.com/0AUxkXt.png)"
      ]
    },
    {
      "cell_type": "markdown",
      "metadata": {
        "id": "jbpQzyjqbflM",
        "colab_type": "text"
      },
      "source": [
        "# Assignment 1 - The Hacker Rank\n",
        "\n",
        "HackerRank is a place where programmers from all over the world come together to solve problems in a wide range of Computer Science domains.\n",
        "\n",
        "As you solve more challenges, you earn points and move up the HackerRank Leaderboard.\n",
        "\n",
        "Looking for a job at an awesome company? You can get hired by solving [challenges](https://www.hackerrank.com/jobs/search)!\n",
        "\n",
        "It's cool. Let's establish your knowledge and fight for glory!\n",
        "\n",
        "But before that let's make it clear that.."
      ]
    },
    {
      "cell_type": "markdown",
      "metadata": {
        "id": "-ndmD4naciAN",
        "colab_type": "text"
      },
      "source": [
        "## Note-taking is IMPORTANT\n",
        "\n",
        "Blog: [Why is note-taking important](https://nickblackbourn.com/blog/why-is-note-taking-important/)\n",
        "\n",
        "Note taking isn’t just important for college students, it’s a valuable life skill.\n",
        "\n",
        "Effective note taking helps you to remember information and aids your understanding of that information. \n",
        "\n",
        "**Notes boost your understanding**\n",
        "\n",
        "By making notes, you force yourself to construct a conceptual mental representation of the ideas you are grappling with. It is this process that helps you comprehend the subject matter you are working with.\n",
        "\n",
        "**Notes are a repository of your thinking**\n",
        "\n",
        "When you need to recall something that you came across a while ago, you can go over the main ideas by looking over your notes. This is why good, comprehensive notes are so useful; they are a catalogue of the best ideas you’ve encountered, and what you thought about them.\n",
        "\n",
        "etc.\n",
        "\n",
        "\n",
        "\n",
        "\n",
        "\n",
        "\n",
        "\n"
      ]
    },
    {
      "cell_type": "markdown",
      "metadata": {
        "id": "IGvKPsdVfX-F",
        "colab_type": "text"
      },
      "source": [
        "## Requirements\n",
        "\n",
        "Pick 10 challenges on HackerRank about SQL and 5 about Python in **easy** level:\n",
        "\n",
        "[HackerRank - Domain SQL](https://www.hackerrank.com/domains/sql?filters%5Bdifficulty%5D%5B%5D=easy&filters%5Bsubdomains%5D%5B%5D=select)\n",
        "\n",
        "[HackerRank - Domain Python](https://www.hackerrank.com/domains/python?filters%5Bdifficulty%5D%5B%5D=easy)\n",
        "\n",
        "For each challenge:\n",
        "\n",
        "* Create a markdown cell first that describes the challenge.\n",
        "* Solve the challenge on HackerRank and copy your solution to a code cell below\n",
        "* (Optional) A short description about how you came up with the solution would be awesome."
      ]
    },
    {
      "cell_type": "markdown",
      "metadata": {
        "id": "higGK1Y5iAea",
        "colab_type": "text"
      },
      "source": [
        "## Nguyen Tien Phat"
      ]
    },
    {
      "cell_type": "markdown",
      "metadata": {
        "id": "D2yU2FYDi4tj",
        "colab_type": "text"
      },
      "source": [
        "### SQL"
      ]
    },
    {
      "cell_type": "markdown",
      "metadata": {
        "id": "k-ZIVK2SoLeM",
        "colab_type": "text"
      },
      "source": [
        "Ex1: https://www.hackerrank.com/challenges/revising-the-select-query/problem"
      ]
    },
    {
      "cell_type": "code",
      "metadata": {
        "colab_type": "code",
        "id": "TvvljrSfoeMG",
        "colab": {}
      },
      "source": [
        "select * from city\n",
        "where population > 100000 and countrycode = 'USA'"
      ],
      "execution_count": 0,
      "outputs": []
    },
    {
      "cell_type": "markdown",
      "metadata": {
        "id": "2wKB67HFohDB",
        "colab_type": "text"
      },
      "source": [
        "Ex2: https://www.hackerrank.com/challenges/revising-the-select-query-2/problem"
      ]
    },
    {
      "cell_type": "code",
      "metadata": {
        "id": "4-TClsFaoxlD",
        "colab_type": "code",
        "colab": {}
      },
      "source": [
        "select name\n",
        "from city\n",
        "where population > 120000 and countrycode = 'USA'"
      ],
      "execution_count": 0,
      "outputs": []
    },
    {
      "cell_type": "markdown",
      "metadata": {
        "id": "w3VGHKSiojM9",
        "colab_type": "text"
      },
      "source": [
        "Ex3: https://www.hackerrank.com/challenges/select-all-sql/problem"
      ]
    },
    {
      "cell_type": "code",
      "metadata": {
        "id": "kdxhLNhdo285",
        "colab_type": "code",
        "colab": {}
      },
      "source": [
        "select * from city"
      ],
      "execution_count": 0,
      "outputs": []
    },
    {
      "cell_type": "markdown",
      "metadata": {
        "id": "7v72ZRvookG6",
        "colab_type": "text"
      },
      "source": [
        "Ex4: https://www.hackerrank.com/challenges/select-by-id/problem"
      ]
    },
    {
      "cell_type": "code",
      "metadata": {
        "id": "bszOc5J5o8yj",
        "colab_type": "code",
        "colab": {}
      },
      "source": [
        "select * from city\n",
        "where id = 1661"
      ],
      "execution_count": 0,
      "outputs": []
    },
    {
      "cell_type": "markdown",
      "metadata": {
        "id": "MM7JvnI9olPF",
        "colab_type": "text"
      },
      "source": [
        "Ex5: https://www.hackerrank.com/challenges/japanese-cities-attributes"
      ]
    },
    {
      "cell_type": "code",
      "metadata": {
        "id": "1lcTKrHxpCNR",
        "colab_type": "code",
        "colab": {}
      },
      "source": [
        "select * from city\n",
        "where countrycode = 'JPN'"
      ],
      "execution_count": 0,
      "outputs": []
    },
    {
      "cell_type": "markdown",
      "metadata": {
        "id": "PXpDDa6VomKj",
        "colab_type": "text"
      },
      "source": [
        "Ex6: https://www.hackerrank.com/challenges/japanese-cities-name/problem"
      ]
    },
    {
      "cell_type": "code",
      "metadata": {
        "id": "9NcRIB5TpHbM",
        "colab_type": "code",
        "colab": {}
      },
      "source": [
        "select name \n",
        "from city \n",
        "where countrycode = 'JPN'"
      ],
      "execution_count": 0,
      "outputs": []
    },
    {
      "cell_type": "markdown",
      "metadata": {
        "id": "ejQI00RNonAn",
        "colab_type": "text"
      },
      "source": [
        "Ex7: https://www.hackerrank.com/challenges/weather-observation-station-1/problem"
      ]
    },
    {
      "cell_type": "code",
      "metadata": {
        "id": "pnD-zZ1npO0h",
        "colab_type": "code",
        "colab": {}
      },
      "source": [
        "select city, state\n",
        "from station"
      ],
      "execution_count": 0,
      "outputs": []
    },
    {
      "cell_type": "markdown",
      "metadata": {
        "id": "goMg24flon8U",
        "colab_type": "text"
      },
      "source": [
        "Ex8: https://www.hackerrank.com/challenges/weather-observation-station-3"
      ]
    },
    {
      "cell_type": "code",
      "metadata": {
        "id": "WRq4NmO5pSzs",
        "colab_type": "code",
        "colab": {}
      },
      "source": [
        "select distinct city\n",
        "from station\n",
        "where (id%2)<>1"
      ],
      "execution_count": 0,
      "outputs": []
    },
    {
      "cell_type": "markdown",
      "metadata": {
        "id": "O17_j-CYoou8",
        "colab_type": "text"
      },
      "source": [
        "Ex9: https://www.hackerrank.com/challenges/the-pads"
      ]
    },
    {
      "cell_type": "code",
      "metadata": {
        "id": "rKMsagZkpX83",
        "colab_type": "code",
        "colab": {}
      },
      "source": [
        "select concat(name, '(', left(occupation, 1), ')')\n",
        "from occupations\n",
        "order by name\n",
        "select concat('There are a total of ', count(name), ' ', lower(occupation), 's.') as res\n",
        "from occupations\n",
        "group by occupation\n",
        "order by res asc"
      ],
      "execution_count": 0,
      "outputs": []
    },
    {
      "cell_type": "markdown",
      "metadata": {
        "id": "0ThF2Fpbop11",
        "colab_type": "text"
      },
      "source": [
        "Ex10: https://www.hackerrank.com/challenges/binary-search-tree-1"
      ]
    },
    {
      "cell_type": "code",
      "metadata": {
        "id": "EpziVAqipdIq",
        "colab_type": "code",
        "colab": {}
      },
      "source": [
        "select distinct t1.N,\n",
        "case\n",
        "    when t1.P is null and t2.N is not null then \"Root\"\n",
        "    when t2.N is null and t1.P is not null then \"Leaf\"\n",
        "    when t1.P is not null and t2.N is not null then \"Inner\"\n",
        "end\n",
        "from (BST t1 left join BST t2 on t1.N = t2.P)\n",
        "order by t1.N asc"
      ],
      "execution_count": 0,
      "outputs": []
    },
    {
      "cell_type": "markdown",
      "metadata": {
        "id": "0AxyfiJijJ7T",
        "colab_type": "text"
      },
      "source": [
        "### Python"
      ]
    },
    {
      "cell_type": "markdown",
      "metadata": {
        "id": "j-3ANjYUppf9",
        "colab_type": "text"
      },
      "source": [
        "Ex1: https://www.hackerrank.com/challenges/write-a-function/problem"
      ]
    },
    {
      "cell_type": "code",
      "metadata": {
        "id": "UVegniI7pzM5",
        "colab_type": "code",
        "colab": {}
      },
      "source": [
        "def is_leap(year):\n",
        "    leap = False\n",
        "    \n",
        "    # Write your logic here\n",
        "    leap = year%4 != 0 or (year%100 == 0 and year%400 != 0)\n",
        "    return not(leap)\n",
        "\n",
        "year = int(input())\n",
        "print(is_leap(year))"
      ],
      "execution_count": 0,
      "outputs": []
    },
    {
      "cell_type": "markdown",
      "metadata": {
        "id": "Ty3io62op2kK",
        "colab_type": "text"
      },
      "source": [
        "Ex2: https://www.hackerrank.com/challenges/the-minion-game/problem"
      ]
    },
    {
      "cell_type": "code",
      "metadata": {
        "id": "FH_obS-Lp6Lz",
        "colab_type": "code",
        "colab": {}
      },
      "source": [
        "Vowels = ['A', 'E', 'I', 'O', 'U']\n",
        "def minion_game(string):\n",
        "    # your code goes here\n",
        "    stu_sco = 0\n",
        "    kev_sco = 0\n",
        "    for i in range(len(string)):\n",
        "        if(string[i] in Vowels):\n",
        "            kev_sco += len(string) - i\n",
        "        else:\n",
        "            stu_sco += len(string) - i\n",
        "    \n",
        "    if(kev_sco > stu_sco):\n",
        "        print(\"Kevin {}\".format(kev_sco))\n",
        "    elif(stu_sco > kev_sco):\n",
        "        print(\"Stuart {}\".format(stu_sco))\n",
        "    else:\n",
        "        print(\"Draw\")\n",
        "if __name__ == '__main__':\n",
        "    s = input()\n",
        "    minion_game(s)"
      ],
      "execution_count": 0,
      "outputs": []
    },
    {
      "cell_type": "markdown",
      "metadata": {
        "id": "eLeL0kSZp8f9",
        "colab_type": "text"
      },
      "source": [
        "Ex3: https://www.hackerrank.com/challenges/merge-the-tools"
      ]
    },
    {
      "cell_type": "code",
      "metadata": {
        "id": "hetMAIILp_wL",
        "colab_type": "code",
        "colab": {}
      },
      "source": [
        "def merge_the_tools(string, k):\n",
        "    # your code goes here\n",
        "    str_size = len(string)\n",
        "    pointers = range(0, str_size, k)\n",
        "    for p in pointers:\n",
        "        sub_str = ''\n",
        "        for i in range(p, p+k, 1):\n",
        "            if(string[i] not in sub_str):\n",
        "                sub_str += str(string[i])\n",
        "        print(sub_str)\n",
        "\n",
        "if __name__ == '__main__':\n",
        "    string, k = input(), int(input())\n",
        "    merge_the_tools(string, k)"
      ],
      "execution_count": 0,
      "outputs": []
    },
    {
      "cell_type": "markdown",
      "metadata": {
        "id": "3IxPlBKRqEAc",
        "colab_type": "text"
      },
      "source": [
        "Ex4: https://www.hackerrank.com/challenges/python-time-delta/problem"
      ]
    },
    {
      "cell_type": "code",
      "metadata": {
        "id": "dyjkQMVuqNj5",
        "colab_type": "code",
        "colab": {}
      },
      "source": [
        "#!/bin/python3\n",
        "\n",
        "import math\n",
        "import os\n",
        "import random\n",
        "import re\n",
        "import sys\n",
        "from datetime import datetime\n",
        "# Complete the time_delta function below.\n",
        "def time_delta(t1, t2):\n",
        "    format_time = '%a %d %b %Y %H:%M:%S %z'\n",
        "    res = int(abs((datetime.strptime(t1, format_time) - \n",
        "                   datetime.strptime(t2, format_time)).total_seconds()))\n",
        "    return res\n",
        "\n",
        "if __name__ == '__main__':\n",
        "    t = int(input())\n",
        "\n",
        "    for t_itr in range(t):\n",
        "        t1 = input()\n",
        "        t2 = input()\n",
        "\n",
        "        delta = time_delta(t1, t2)\n",
        "        print(delta)\n",
        "\n"
      ],
      "execution_count": 0,
      "outputs": []
    },
    {
      "cell_type": "markdown",
      "metadata": {
        "id": "cnfqWNncqPqn",
        "colab_type": "text"
      },
      "source": [
        "Ex5: https://www.hackerrank.com/challenges/compress-the-string"
      ]
    },
    {
      "cell_type": "code",
      "metadata": {
        "id": "XPTJvyAgqSgJ",
        "colab_type": "code",
        "colab": {}
      },
      "source": [
        "# Enter your code here. Read input from STDIN. Print output to STDOUT\n",
        "\n",
        "from itertools import groupby\n",
        "\n",
        "a_gr = groupby(input())\n",
        "res = ''\n",
        "for k, gr in a_gr:\n",
        "    res += '({}, {})'.format(len(list(gr)), int(k))\n",
        "    res += ' '\n",
        "print(res)\n"
      ],
      "execution_count": 0,
      "outputs": []
    }
  ]
}