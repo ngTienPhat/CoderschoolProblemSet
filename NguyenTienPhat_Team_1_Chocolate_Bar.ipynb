{
  "nbformat": 4,
  "nbformat_minor": 0,
  "metadata": {
    "kernelspec": {
      "name": "python3",
      "display_name": "Python 3"
    },
    "language_info": {
      "codemirror_mode": {
        "name": "ipython",
        "version": 3
      },
      "file_extension": ".py",
      "mimetype": "text/x-python",
      "name": "python",
      "nbconvert_exporter": "python",
      "pygments_lexer": "ipython3",
      "version": "3.7.3"
    },
    "colab": {
      "name": "NguyenTienPhat_Team 1 - Chocolate Bar.ipynb",
      "version": "0.3.2",
      "provenance": [],
      "collapsed_sections": [],
      "include_colab_link": true
    },
    "accelerator": "GPU"
  },
  "cells": [
    {
      "cell_type": "markdown",
      "metadata": {
        "id": "view-in-github",
        "colab_type": "text"
      },
      "source": [
        "<a href=\"https://colab.research.google.com/github/ngTienPhat/CoderschoolProblemSet/blob/master/NguyenTienPhat_Team_1_Chocolate_Bar.ipynb\" target=\"_parent\"><img src=\"https://colab.research.google.com/assets/colab-badge.svg\" alt=\"Open In Colab\"/></a>"
      ]
    },
    {
      "cell_type": "markdown",
      "metadata": {
        "id": "nyAUi5TgVxqY",
        "colab_type": "text"
      },
      "source": [
        "# Team 1 - Chocolate Bar\n",
        "\n",
        "![](https://img.newatlas.com/cocoa-tree-domestication-chocolate-1.jpg?auto=format%2Ccompress&ch=Width%2CDPR&fit=crop&h=347&q=60&rect=0%2C18%2C1620%2C911&w=616&s=2c0f902d21b734d77c99fd13171fb979)\n",
        "\n",
        "_For more information about the dataset, read [here](https://www.kaggle.com/rtatman/chocolate-bar-ratings)._\n",
        "\n",
        "## Your tasks\n",
        "- Name your team!\n",
        "- Read the source and do some quick research to understand more about the dataset and its topic\n",
        "- Clean the data\n",
        "- Perform Exploratory Data Analysis on the dataset\n",
        "- Analyze the data more deeply and extract insights\n",
        "- Visualize your analysis on Google Data Studio\n",
        "- Present your works in front of the class and guests next Monday\n",
        "\n",
        "## Submission Guide\n",
        "- Create a Github repository for your project\n",
        "- Upload the dataset (.csv file) and the Jupyter Notebook to your Github repository. In the Jupyter Notebook, **include the link to your Google Data Studio report**.\n",
        "- Submit your works through this [Google Form](https://forms.gle/oxtXpGfS8JapVj3V8).\n",
        "\n",
        "## Tips for Data Cleaning, Manipulation & Visualization\n",
        "- Here are some of our tips for Data Cleaning, Manipulation & Visualization. [Click here](https://hackmd.io/cBNV7E6TT2WMliQC-GTw1A)\n",
        "\n",
        "_____________________________\n",
        "\n",
        "## Some Hints for This Dataset:\n",
        "- There are lots of poorly labeled data in `Broad Bean Origin` column.\n",
        "- There are some rows in `Broad Bean Origin` with multiple values, those values will create errors in our data. \n",
        "- How can we get rid of the `%` sign in `Cocoa Percent` column?\n",
        "- And more..."
      ]
    },
    {
      "cell_type": "markdown",
      "metadata": {
        "id": "n668qJHNYHXm",
        "colab_type": "text"
      },
      "source": [
        "#My solution"
      ]
    },
    {
      "cell_type": "markdown",
      "metadata": {
        "id": "l1bIUNQOYN2K",
        "colab_type": "text"
      },
      "source": [
        "##Get data"
      ]
    },
    {
      "cell_type": "code",
      "metadata": {
        "id": "kw3Hs3K6YGBZ",
        "colab_type": "code",
        "outputId": "5d2605cd-66fe-4cb3-af9b-9c0bc79fd47c",
        "colab": {
          "base_uri": "https://localhost:8080/",
          "height": 122
        }
      },
      "source": [
        "from google.colab import drive\n",
        "drive.mount('/content/drive')"
      ],
      "execution_count": 3,
      "outputs": [
        {
          "output_type": "stream",
          "text": [
            "Go to this URL in a browser: https://accounts.google.com/o/oauth2/auth?client_id=947318989803-6bn6qk8qdgf4n4g3pfee6491hc0brc4i.apps.googleusercontent.com&redirect_uri=urn%3Aietf%3Awg%3Aoauth%3A2.0%3Aoob&scope=email%20https%3A%2F%2Fwww.googleapis.com%2Fauth%2Fdocs.test%20https%3A%2F%2Fwww.googleapis.com%2Fauth%2Fdrive%20https%3A%2F%2Fwww.googleapis.com%2Fauth%2Fdrive.photos.readonly%20https%3A%2F%2Fwww.googleapis.com%2Fauth%2Fpeopleapi.readonly&response_type=code\n",
            "\n",
            "Enter your authorization code:\n",
            "··········\n",
            "Mounted at /content/drive\n"
          ],
          "name": "stdout"
        }
      ]
    },
    {
      "cell_type": "code",
      "metadata": {
        "id": "w4qKC7PBVxqZ",
        "colab_type": "code",
        "colab": {}
      },
      "source": [
        "# Start your codes here!"
      ],
      "execution_count": 0,
      "outputs": []
    },
    {
      "cell_type": "code",
      "metadata": {
        "id": "OQ1OCoe2Y-an",
        "colab_type": "code",
        "colab": {}
      },
      "source": [
        "import pandas as pd\n",
        "import numpy as np \n",
        "import matplotlib.pyplot as plt\n",
        "import seaborn as sns\n",
        "%matplotlib inline"
      ],
      "execution_count": 0,
      "outputs": []
    },
    {
      "cell_type": "code",
      "metadata": {
        "id": "az_KYch7Y11c",
        "colab_type": "code",
        "colab": {}
      },
      "source": [
        "data = pd.read_csv('/content/drive/My Drive/Colab Notebooks/DevC-CoderSchool-2019/chocolate.csv')"
      ],
      "execution_count": 0,
      "outputs": []
    },
    {
      "cell_type": "code",
      "metadata": {
        "id": "XPQs35hhY9St",
        "colab_type": "code",
        "outputId": "52961453-7b73-4d76-c3e7-d02cb44d558f",
        "colab": {
          "base_uri": "https://localhost:8080/",
          "height": 145
        }
      },
      "source": [
        "data.head(2)"
      ],
      "execution_count": 70,
      "outputs": [
        {
          "output_type": "execute_result",
          "data": {
            "text/html": [
              "<div>\n",
              "<style scoped>\n",
              "    .dataframe tbody tr th:only-of-type {\n",
              "        vertical-align: middle;\n",
              "    }\n",
              "\n",
              "    .dataframe tbody tr th {\n",
              "        vertical-align: top;\n",
              "    }\n",
              "\n",
              "    .dataframe thead th {\n",
              "        text-align: right;\n",
              "    }\n",
              "</style>\n",
              "<table border=\"1\" class=\"dataframe\">\n",
              "  <thead>\n",
              "    <tr style=\"text-align: right;\">\n",
              "      <th></th>\n",
              "      <th>Company \n",
              "(Maker-if known)</th>\n",
              "      <th>Specific Bean Origin\n",
              "or Bar Name</th>\n",
              "      <th>REF</th>\n",
              "      <th>Review\n",
              "Date</th>\n",
              "      <th>Cocoa\n",
              "Percent</th>\n",
              "      <th>Company\n",
              "Location</th>\n",
              "      <th>Rating</th>\n",
              "      <th>Bean\n",
              "Type</th>\n",
              "      <th>Broad Bean\n",
              "Origin</th>\n",
              "    </tr>\n",
              "  </thead>\n",
              "  <tbody>\n",
              "    <tr>\n",
              "      <th>0</th>\n",
              "      <td>A. Morin</td>\n",
              "      <td>Agua Grande</td>\n",
              "      <td>1876</td>\n",
              "      <td>2016</td>\n",
              "      <td>63%</td>\n",
              "      <td>France</td>\n",
              "      <td>3.75</td>\n",
              "      <td></td>\n",
              "      <td>Sao Tome</td>\n",
              "    </tr>\n",
              "    <tr>\n",
              "      <th>1</th>\n",
              "      <td>A. Morin</td>\n",
              "      <td>Kpime</td>\n",
              "      <td>1676</td>\n",
              "      <td>2015</td>\n",
              "      <td>70%</td>\n",
              "      <td>France</td>\n",
              "      <td>2.75</td>\n",
              "      <td></td>\n",
              "      <td>Togo</td>\n",
              "    </tr>\n",
              "  </tbody>\n",
              "</table>\n",
              "</div>"
            ],
            "text/plain": [
              "  Company \\n(Maker-if known)  ... Broad Bean\\nOrigin\n",
              "0                   A. Morin  ...           Sao Tome\n",
              "1                   A. Morin  ...               Togo\n",
              "\n",
              "[2 rows x 9 columns]"
            ]
          },
          "metadata": {
            "tags": []
          },
          "execution_count": 70
        }
      ]
    },
    {
      "cell_type": "code",
      "metadata": {
        "id": "eiMSEm5kZaUe",
        "colab_type": "code",
        "outputId": "3d6a4a0d-8c46-4001-dba0-c50d54f742d6",
        "colab": {
          "base_uri": "https://localhost:8080/",
          "height": 374
        }
      },
      "source": [
        "data.info()"
      ],
      "execution_count": 71,
      "outputs": [
        {
          "output_type": "stream",
          "text": [
            "<class 'pandas.core.frame.DataFrame'>\n",
            "RangeIndex: 1795 entries, 0 to 1794\n",
            "Data columns (total 9 columns):\n",
            "Company \n",
            "(Maker-if known)           1795 non-null object\n",
            "Specific Bean Origin\n",
            "or Bar Name    1795 non-null object\n",
            "REF                                 1795 non-null int64\n",
            "Review\n",
            "Date                         1795 non-null int64\n",
            "Cocoa\n",
            "Percent                       1795 non-null object\n",
            "Company\n",
            "Location                    1795 non-null object\n",
            "Rating                              1795 non-null float64\n",
            "Bean\n",
            "Type                           1794 non-null object\n",
            "Broad Bean\n",
            "Origin                   1794 non-null object\n",
            "dtypes: float64(1), int64(2), object(6)\n",
            "memory usage: 126.3+ KB\n"
          ],
          "name": "stdout"
        }
      ]
    },
    {
      "cell_type": "code",
      "metadata": {
        "id": "ltX0kRcPZVAp",
        "colab_type": "code",
        "outputId": "1300143d-e3de-4692-e3b7-58ddfcc0094b",
        "colab": {
          "base_uri": "https://localhost:8080/",
          "height": 297
        }
      },
      "source": [
        "data.describe()"
      ],
      "execution_count": 72,
      "outputs": [
        {
          "output_type": "execute_result",
          "data": {
            "text/html": [
              "<div>\n",
              "<style scoped>\n",
              "    .dataframe tbody tr th:only-of-type {\n",
              "        vertical-align: middle;\n",
              "    }\n",
              "\n",
              "    .dataframe tbody tr th {\n",
              "        vertical-align: top;\n",
              "    }\n",
              "\n",
              "    .dataframe thead th {\n",
              "        text-align: right;\n",
              "    }\n",
              "</style>\n",
              "<table border=\"1\" class=\"dataframe\">\n",
              "  <thead>\n",
              "    <tr style=\"text-align: right;\">\n",
              "      <th></th>\n",
              "      <th>REF</th>\n",
              "      <th>Review\n",
              "Date</th>\n",
              "      <th>Rating</th>\n",
              "    </tr>\n",
              "  </thead>\n",
              "  <tbody>\n",
              "    <tr>\n",
              "      <th>count</th>\n",
              "      <td>1795.000000</td>\n",
              "      <td>1795.000000</td>\n",
              "      <td>1795.000000</td>\n",
              "    </tr>\n",
              "    <tr>\n",
              "      <th>mean</th>\n",
              "      <td>1035.904735</td>\n",
              "      <td>2012.325348</td>\n",
              "      <td>3.185933</td>\n",
              "    </tr>\n",
              "    <tr>\n",
              "      <th>std</th>\n",
              "      <td>552.886365</td>\n",
              "      <td>2.927210</td>\n",
              "      <td>0.478062</td>\n",
              "    </tr>\n",
              "    <tr>\n",
              "      <th>min</th>\n",
              "      <td>5.000000</td>\n",
              "      <td>2006.000000</td>\n",
              "      <td>1.000000</td>\n",
              "    </tr>\n",
              "    <tr>\n",
              "      <th>25%</th>\n",
              "      <td>576.000000</td>\n",
              "      <td>2010.000000</td>\n",
              "      <td>2.875000</td>\n",
              "    </tr>\n",
              "    <tr>\n",
              "      <th>50%</th>\n",
              "      <td>1069.000000</td>\n",
              "      <td>2013.000000</td>\n",
              "      <td>3.250000</td>\n",
              "    </tr>\n",
              "    <tr>\n",
              "      <th>75%</th>\n",
              "      <td>1502.000000</td>\n",
              "      <td>2015.000000</td>\n",
              "      <td>3.500000</td>\n",
              "    </tr>\n",
              "    <tr>\n",
              "      <th>max</th>\n",
              "      <td>1952.000000</td>\n",
              "      <td>2017.000000</td>\n",
              "      <td>5.000000</td>\n",
              "    </tr>\n",
              "  </tbody>\n",
              "</table>\n",
              "</div>"
            ],
            "text/plain": [
              "               REF  Review\\nDate       Rating\n",
              "count  1795.000000   1795.000000  1795.000000\n",
              "mean   1035.904735   2012.325348     3.185933\n",
              "std     552.886365      2.927210     0.478062\n",
              "min       5.000000   2006.000000     1.000000\n",
              "25%     576.000000   2010.000000     2.875000\n",
              "50%    1069.000000   2013.000000     3.250000\n",
              "75%    1502.000000   2015.000000     3.500000\n",
              "max    1952.000000   2017.000000     5.000000"
            ]
          },
          "metadata": {
            "tags": []
          },
          "execution_count": 72
        }
      ]
    },
    {
      "cell_type": "code",
      "metadata": {
        "id": "hc04n8FaZXCL",
        "colab_type": "code",
        "outputId": "2839acf0-20ae-4265-bd06-b4852500be25",
        "colab": {
          "base_uri": "https://localhost:8080/",
          "height": 187
        }
      },
      "source": [
        "data.isnull().sum()"
      ],
      "execution_count": 73,
      "outputs": [
        {
          "output_type": "execute_result",
          "data": {
            "text/plain": [
              "Company \\n(Maker-if known)           0\n",
              "Specific Bean Origin\\nor Bar Name    0\n",
              "REF                                  0\n",
              "Review\\nDate                         0\n",
              "Cocoa\\nPercent                       0\n",
              "Company\\nLocation                    0\n",
              "Rating                               0\n",
              "Bean\\nType                           1\n",
              "Broad Bean\\nOrigin                   1\n",
              "dtype: int64"
            ]
          },
          "metadata": {
            "tags": []
          },
          "execution_count": 73
        }
      ]
    },
    {
      "cell_type": "code",
      "metadata": {
        "id": "px1kw4epbvD_",
        "colab_type": "code",
        "colab": {}
      },
      "source": [
        "df = data.copy()"
      ],
      "execution_count": 0,
      "outputs": []
    },
    {
      "cell_type": "markdown",
      "metadata": {
        "id": "ysmpT_uCb5L1",
        "colab_type": "text"
      },
      "source": [
        "###Change columns name"
      ]
    },
    {
      "cell_type": "code",
      "metadata": {
        "id": "eWZ6JKVUaKJW",
        "colab_type": "code",
        "colab": {}
      },
      "source": [
        "new_col_names=['company', 'bean_origin', 'ref', 'review_date', 'cocoa_percent', 'company_location', 'rating', 'bean_type', 'broad_bean_origin']\n",
        "cur_col_names = data.columns.values.tolist()\n",
        "corr_change_name = {cur_name:new_name for cur_name, new_name in zip(cur_col_names, new_col_names)}\n",
        "df.rename(columns=corr_change_name, inplace=True)"
      ],
      "execution_count": 0,
      "outputs": []
    },
    {
      "cell_type": "code",
      "metadata": {
        "id": "IdL89d0Zbp7h",
        "colab_type": "code",
        "outputId": "1c3c0e10-4950-4ce4-8fd5-f5254510ad00",
        "colab": {
          "base_uri": "https://localhost:8080/",
          "height": 68
        }
      },
      "source": [
        "df.columns"
      ],
      "execution_count": 203,
      "outputs": [
        {
          "output_type": "execute_result",
          "data": {
            "text/plain": [
              "Index(['company', 'bean_origin', 'ref', 'review_date', 'cocoa_percent',\n",
              "       'company_location', 'rating', 'bean_type', 'broad_bean_origin'],\n",
              "      dtype='object')"
            ]
          },
          "metadata": {
            "tags": []
          },
          "execution_count": 203
        }
      ]
    },
    {
      "cell_type": "markdown",
      "metadata": {
        "id": "XwBFojWq-hwr",
        "colab_type": "text"
      },
      "source": [
        "##cast cocoa_percent to float"
      ]
    },
    {
      "cell_type": "code",
      "metadata": {
        "id": "eyimkwQYHmX4",
        "colab_type": "code",
        "outputId": "3b26b37d-b4b8-49bb-d23e-0c58a2b5d567",
        "colab": {
          "base_uri": "https://localhost:8080/",
          "height": 131
        }
      },
      "source": [
        "df.head(2)"
      ],
      "execution_count": 204,
      "outputs": [
        {
          "output_type": "execute_result",
          "data": {
            "text/html": [
              "<div>\n",
              "<style scoped>\n",
              "    .dataframe tbody tr th:only-of-type {\n",
              "        vertical-align: middle;\n",
              "    }\n",
              "\n",
              "    .dataframe tbody tr th {\n",
              "        vertical-align: top;\n",
              "    }\n",
              "\n",
              "    .dataframe thead th {\n",
              "        text-align: right;\n",
              "    }\n",
              "</style>\n",
              "<table border=\"1\" class=\"dataframe\">\n",
              "  <thead>\n",
              "    <tr style=\"text-align: right;\">\n",
              "      <th></th>\n",
              "      <th>company</th>\n",
              "      <th>bean_origin</th>\n",
              "      <th>ref</th>\n",
              "      <th>review_date</th>\n",
              "      <th>cocoa_percent</th>\n",
              "      <th>company_location</th>\n",
              "      <th>rating</th>\n",
              "      <th>bean_type</th>\n",
              "      <th>broad_bean_origin</th>\n",
              "    </tr>\n",
              "  </thead>\n",
              "  <tbody>\n",
              "    <tr>\n",
              "      <th>0</th>\n",
              "      <td>A. Morin</td>\n",
              "      <td>Agua Grande</td>\n",
              "      <td>1876</td>\n",
              "      <td>2016</td>\n",
              "      <td>63%</td>\n",
              "      <td>France</td>\n",
              "      <td>3.75</td>\n",
              "      <td></td>\n",
              "      <td>Sao Tome</td>\n",
              "    </tr>\n",
              "    <tr>\n",
              "      <th>1</th>\n",
              "      <td>A. Morin</td>\n",
              "      <td>Kpime</td>\n",
              "      <td>1676</td>\n",
              "      <td>2015</td>\n",
              "      <td>70%</td>\n",
              "      <td>France</td>\n",
              "      <td>2.75</td>\n",
              "      <td></td>\n",
              "      <td>Togo</td>\n",
              "    </tr>\n",
              "  </tbody>\n",
              "</table>\n",
              "</div>"
            ],
            "text/plain": [
              "    company  bean_origin   ref  ...  rating bean_type broad_bean_origin\n",
              "0  A. Morin  Agua Grande  1876  ...    3.75                    Sao Tome\n",
              "1  A. Morin        Kpime  1676  ...    2.75                        Togo\n",
              "\n",
              "[2 rows x 9 columns]"
            ]
          },
          "metadata": {
            "tags": []
          },
          "execution_count": 204
        }
      ]
    },
    {
      "cell_type": "code",
      "metadata": {
        "id": "yLz8QAu_bsBY",
        "colab_type": "code",
        "colab": {}
      },
      "source": [
        "def percent_text_to_float(text):\n",
        "  text.strip()\n",
        "  text = text.split('%')[0]\n",
        "  text = float(float(text)/100)\n",
        "  return text\n",
        "  "
      ],
      "execution_count": 0,
      "outputs": []
    },
    {
      "cell_type": "code",
      "metadata": {
        "id": "DqIAINhvHvm9",
        "colab_type": "code",
        "colab": {}
      },
      "source": [
        "df.cocoa_percent = df.cocoa_percent.apply(percent_text_to_float)"
      ],
      "execution_count": 0,
      "outputs": []
    },
    {
      "cell_type": "markdown",
      "metadata": {
        "id": "BfJoKM0u-UHl",
        "colab_type": "text"
      },
      "source": [
        "##clean broad_bean_origin column\n"
      ]
    },
    {
      "cell_type": "code",
      "metadata": {
        "id": "EVZ_KTNMbENa",
        "colab_type": "code",
        "colab": {
          "base_uri": "https://localhost:8080/",
          "height": 527
        },
        "outputId": "b3986352-8e6a-4f27-d70e-d24fee9ca139"
      },
      "source": [
        "df.broad_bean_origin.unique()"
      ],
      "execution_count": 207,
      "outputs": [
        {
          "output_type": "execute_result",
          "data": {
            "text/plain": [
              "array(['Sao Tome', 'Togo', 'Peru', 'Venezuela', 'Cuba', 'Panama',\n",
              "       'Madagascar', 'Brazil', 'Ecuador', 'Colombia', 'Burma',\n",
              "       'Papua New Guinea', 'Bolivia', 'Fiji', 'Mexico', 'Indonesia',\n",
              "       'Trinidad', 'Vietnam', 'Nicaragua', 'Tanzania',\n",
              "       'Dominican Republic', 'Ghana', 'Belize', '\\xa0', 'Jamaica',\n",
              "       'Grenada', 'Guatemala', 'Honduras', 'Costa Rica',\n",
              "       'Domincan Republic', 'Haiti', 'Congo', 'Philippines', 'Malaysia',\n",
              "       'Dominican Rep., Bali', 'Venez,Africa,Brasil,Peru,Mex', 'Gabon',\n",
              "       'Ivory Coast', 'Carribean', 'Sri Lanka', 'Puerto Rico', 'Uganda',\n",
              "       'Martinique', 'Sao Tome & Principe', 'Vanuatu', 'Australia',\n",
              "       'Liberia', 'Ecuador, Costa Rica', 'West Africa', 'Hawaii',\n",
              "       'St. Lucia', 'Cost Rica, Ven', 'Peru, Madagascar',\n",
              "       'Venezuela, Trinidad', 'Trinidad, Tobago',\n",
              "       'Ven, Trinidad, Ecuador', 'South America, Africa', 'India',\n",
              "       'Africa, Carribean, C. Am.', 'Tobago', 'Ven., Indonesia, Ecuad.',\n",
              "       'Trinidad-Tobago', 'Peru, Ecuador, Venezuela',\n",
              "       'Venezuela, Dom. Rep.', 'Colombia, Ecuador', 'Solomon Islands',\n",
              "       'Nigeria', 'Peru, Belize', 'Peru, Mad., Dom. Rep.', nan,\n",
              "       'PNG, Vanuatu, Mad', 'El Salvador', 'South America', 'Samoa',\n",
              "       'Ghana, Domin. Rep', 'Trinidad, Ecuador', 'Cameroon',\n",
              "       'Venezuela, Java', 'Venezuela/ Ghana', 'Venezuela, Ghana',\n",
              "       'Indonesia, Ghana', 'Peru(SMartin,Pangoa,nacional)', 'Principe',\n",
              "       'Central and S. America', 'Ven., Trinidad, Mad.',\n",
              "       'Carribean(DR/Jam/Tri)', 'Ghana & Madagascar',\n",
              "       'Ven.,Ecu.,Peru,Nic.', 'Madagascar & Ecuador',\n",
              "       'Guat., D.R., Peru, Mad., PNG', 'Peru, Dom. Rep',\n",
              "       'Dom. Rep., Madagascar', 'Gre., PNG, Haw., Haiti, Mad',\n",
              "       'Mad., Java, PNG', 'Ven, Bolivia, D.R.', 'DR, Ecuador, Peru',\n",
              "       'Suriname', 'Peru, Ecuador', 'Ecuador, Mad., PNG',\n",
              "       'Ghana, Panama, Ecuador', 'Venezuela, Carribean'], dtype=object)"
            ]
          },
          "metadata": {
            "tags": []
          },
          "execution_count": 207
        }
      ]
    },
    {
      "cell_type": "code",
      "metadata": {
        "id": "bEB7hEQZ-5O6",
        "colab_type": "code",
        "colab": {}
      },
      "source": [
        "import re\n",
        "short_names= {\n",
        "    #'(D(\\.|om|ominican)\\.\\s?R(\\.|ep))':'Dominican Republic',\n",
        "    '(D\\.R\\.)|(Dom\\.\\sRep\\.?)|(Dominican\\sRep\\.)|(Domin\\.\\sRep)':'Dominican Republic',\n",
        "    '(Ecuad\\.)|(Ecu\\.,)':'Ecuador',\n",
        "    '(,Mex)':',Mexico',\n",
        "    '(\\sVen\\.?)':'Venezula',\n",
        "    '(\\s?Mad\\.?,)':' Madagascar,',\n",
        "    '(\\sMad^a)':' Madagascar',\n",
        "    '(S\\.\\sAmerica)':'South America',\n",
        "    '(Haw\\.?,)':'Hawaii',\n",
        "    '(Venez,)|(Ven\\.,)':'(Venezuela,)'\n",
        "}\n",
        "#    'D\\.R\\.':'Dominic Republic'\n",
        "\n",
        "def unshort_name(text):\n",
        "  res=text\n",
        "  for short_form, full_form in short_names.items():\n",
        "    res = re.sub(short_form, full_form, res)\n",
        "  return res"
      ],
      "execution_count": 0,
      "outputs": []
    },
    {
      "cell_type": "code",
      "metadata": {
        "id": "aNbuHmRWOflf",
        "colab_type": "code",
        "colab": {}
      },
      "source": [
        "broad_bean_origin = df.broad_bean_origin.values#.tolist()\n",
        "res = [unshort_name(str(a)) for a in broad_bean_origin]\n",
        "df.broad_bean_origin = res"
      ],
      "execution_count": 0,
      "outputs": []
    },
    {
      "cell_type": "code",
      "metadata": {
        "id": "unKnFct_OlWK",
        "colab_type": "code",
        "colab": {
          "base_uri": "https://localhost:8080/",
          "height": 561
        },
        "outputId": "2140c355-6278-4053-b084-56bff6c1a272"
      },
      "source": [
        "df.broad_bean_origin.unique()"
      ],
      "execution_count": 210,
      "outputs": [
        {
          "output_type": "execute_result",
          "data": {
            "text/plain": [
              "array(['Sao Tome', 'Togo', 'Peru', 'Venezuela', 'Cuba', 'Panama',\n",
              "       'Madagascar', 'Brazil', 'Ecuador', 'Colombia', 'Burma',\n",
              "       'Papua New Guinea', 'Bolivia', 'Fiji', 'Mexico', 'Indonesia',\n",
              "       'Trinidad', 'Vietnam', 'Nicaragua', 'Tanzania',\n",
              "       'Dominican Republic', 'Ghana', 'Belize', '\\xa0', 'Jamaica',\n",
              "       'Grenada', 'Guatemala', 'Honduras', 'Costa Rica',\n",
              "       'Domincan Republic', 'Haiti', 'Congo', 'Philippines', 'Malaysia',\n",
              "       'Dominican Republic, Bali',\n",
              "       '(Venezuela,)Africa,Brasil,Peru,Mexico', 'Gabon', 'Ivory Coast',\n",
              "       'Carribean', 'Sri Lanka', 'Puerto Rico', 'Uganda', 'Martinique',\n",
              "       'Sao Tome & Principe', 'Vanuatu', 'Australia', 'Liberia',\n",
              "       'Ecuador, Costa Rica', 'West Africa', 'Hawaii', 'St. Lucia',\n",
              "       'Cost Rica,Venezula', 'Peru, Madagascar', 'Venezuela, Trinidad',\n",
              "       'Trinidad, Tobago', 'Ven, Trinidad, Ecuador',\n",
              "       'South America, Africa', 'India', 'Africa, Carribean, C. Am.',\n",
              "       'Tobago', '(Venezuela,) Indonesia, Ecuador', 'Trinidad-Tobago',\n",
              "       'Peru, Ecuador,Venezulaezuela', 'Venezuela, Dominican Republic',\n",
              "       'Colombia, Ecuador', 'Solomon Islands', 'Nigeria', 'Peru, Belize',\n",
              "       'Peru, Madagascar, Dominican Republic', 'nan', 'PNG, Vanuatu, Mad',\n",
              "       'El Salvador', 'South America', 'Samoa',\n",
              "       'Ghana, Dominican Republic', 'Trinidad, Ecuador', 'Cameroon',\n",
              "       'Venezuela, Java', 'Venezuela/ Ghana', 'Venezuela, Ghana',\n",
              "       'Indonesia, Ghana', 'Peru(SMartin,Pangoa,nacional)', 'Principe',\n",
              "       'Central and South America', '(Venezuela,) Trinidad, Mad.',\n",
              "       'Carribean(DR/Jam/Tri)', 'Ghana & Madagascar',\n",
              "       '(Venezuela,)EcuadorPeru,Nic.', 'Madagascar & Ecuador',\n",
              "       'Guat., Dominican Republic, Peru, Madagascar, PNG',\n",
              "       'Peru, Dominican Republic', 'Dominican Republic, Madagascar',\n",
              "       'Gre., PNG, Hawaii Haiti, Mad', ' Madagascar, Java, PNG',\n",
              "       'Ven, Bolivia, Dominican Republic', 'DR, Ecuador, Peru',\n",
              "       'Suriname', 'Peru, Ecuador', 'Ecuador, Madagascar, PNG',\n",
              "       'Ghana, Panama, Ecuador', 'Venezuela, Carribean'], dtype=object)"
            ]
          },
          "metadata": {
            "tags": []
          },
          "execution_count": 210
        }
      ]
    },
    {
      "cell_type": "code",
      "metadata": {
        "id": "-5ZfQLmESJYb",
        "colab_type": "code",
        "colab": {}
      },
      "source": [
        ""
      ],
      "execution_count": 0,
      "outputs": []
    }
  ]
}